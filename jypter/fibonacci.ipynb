{
 "cells": [
  {
   "cell_type": "code",
   "execution_count": 9,
   "metadata": {},
   "outputs": [],
   "source": [
    "# A noob recursive way\n",
    "def fibo_noob(n):\n",
    "    if n == 0:\n",
    "        return 0\n",
    "    elif n == 1:\n",
    "        return 1\n",
    "    else:\n",
    "        return fibo_noob(n - 1) + fibo_noob(n - 2)"
   ]
  },
  {
   "cell_type": "code",
   "execution_count": 12,
   "metadata": {},
   "outputs": [
    {
     "data": {
      "text/plain": [
       "9227465"
      ]
     },
     "execution_count": 12,
     "metadata": {},
     "output_type": "execute_result"
    }
   ],
   "source": [
    "fibo_noob(35)"
   ]
  },
  {
   "cell_type": "code",
   "execution_count": 96,
   "metadata": {},
   "outputs": [],
   "source": [
    "# Calculating just like we do on pen & paper\n",
    "# It's just like bottom up DP approach, but I don't store all the values behind, Just the nearby ones\n",
    "def fibo_calculative(n):\n",
    "    if n <= 0:\n",
    "        print(\"0\")\n",
    "        return\n",
    "    elif n == 1:\n",
    "        print(\"1\")\n",
    "        return\n",
    "        \n",
    "    sum1 = 1\n",
    "    sum2 = 1\n",
    "    \n",
    "    for i in range(n-2):\n",
    "        temp = sum2\n",
    "        sum2 = sum1 + sum2\n",
    "        sum1 = temp\n",
    "    print(sum2)\n",
    "        \n",
    "    \n",
    "    "
   ]
  },
  {
   "cell_type": "code",
   "execution_count": 100,
   "metadata": {},
   "outputs": [
    {
     "name": "stdout",
     "output_type": "stream",
     "text": [
      "610\n"
     ]
    }
   ],
   "source": [
    "fibo_calculative(15)"
   ]
  },
  {
   "cell_type": "code",
   "execution_count": 94,
   "metadata": {},
   "outputs": [],
   "source": [
    "def fibo_DP_recur_helper(n, mem):\n",
    "    if mem[n] is not None:\n",
    "        return mem[n]\n",
    "        \n",
    "    if n ==1 or n == 2:\n",
    "        ans = 1\n",
    "    else:\n",
    "        ans = fibo_DP_recur_helper(n - 1, mem) + fibo_DP_recur_helper(n - 2, mem)\n",
    "    mem[n] = ans\n",
    "    return ans\n",
    "\n",
    "def fibo_DP_recur(n):\n",
    "    mem = [None] * (n + 1)\n",
    "    print(fibo_DP_recur_helper(n, mem))\n",
    "    \n",
    "        "
   ]
  },
  {
   "cell_type": "code",
   "execution_count": 95,
   "metadata": {},
   "outputs": [
    {
     "name": "stdout",
     "output_type": "stream",
     "text": [
      "610\n"
     ]
    }
   ],
   "source": [
    "fibo_DP_recur(15)"
   ]
  },
  {
   "cell_type": "code",
   "execution_count": null,
   "metadata": {},
   "outputs": [],
   "source": []
  },
  {
   "cell_type": "code",
   "execution_count": null,
   "metadata": {},
   "outputs": [],
   "source": []
  }
 ],
 "metadata": {
  "kernelspec": {
   "display_name": "Python 3",
   "language": "python",
   "name": "python3"
  },
  "language_info": {
   "codemirror_mode": {
    "name": "ipython",
    "version": 3
   },
   "file_extension": ".py",
   "mimetype": "text/x-python",
   "name": "python",
   "nbconvert_exporter": "python",
   "pygments_lexer": "ipython3",
   "version": "3.7.3"
  }
 },
 "nbformat": 4,
 "nbformat_minor": 2
}
